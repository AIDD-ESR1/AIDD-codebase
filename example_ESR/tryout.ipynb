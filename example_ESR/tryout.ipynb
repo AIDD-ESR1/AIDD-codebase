{
 "cells": [
  {
   "cell_type": "markdown",
   "metadata": {},
   "source": [
    "# Development Script"
   ]
  },
  {
   "cell_type": "markdown",
   "metadata": {},
   "source": [
    "### Imports"
   ]
  },
  {
   "cell_type": "code",
   "execution_count": 3,
   "metadata": {},
   "outputs": [],
   "source": [
    "import pathlib\n",
    "from dataclasses import dataclass\n",
    "from typing import Optional\n",
    "\n",
    "import torch"
   ]
  },
  {
   "cell_type": "markdown",
   "metadata": {},
   "source": [
    "### Configuration"
   ]
  },
  {
   "cell_type": "code",
   "execution_count": null,
   "metadata": {},
   "outputs": [],
   "source": [
    "@dataclass(slots=True)\n",
    "class EnvironmentArguments(_ABCDataClass):\n",
    "    DEBUG: bool = False\n",
    "    STRICT: bool = True\n",
    "\n",
    "    SEED: int = 1234\n",
    "    PORT: int = 6006\n",
    "\n",
    "    DEVICE: str = \"cuda\" if torch.cuda.is_available() else \"cpu\"\n",
    "\n",
    "    LOG_TENSORBOARD: bool = True\n",
    "    LOG_WANDB: bool = False\n",
    "    LOG_MLFLOW: bool = False\n",
    "\n",
    "\n",
    "@dataclass\n",
    "class DataArguments(_ABCDataClass):\n",
    "    NUM_WORKERS: int = 8\n",
    "    PERSISTENT_WORKERS: bool = True\n",
    "    REDO_DATA_PROCESSING: bool = False\n",
    "\n",
    "    HOME_DIR: Optional[str] = str(pathlib.Path(__file__).parent.resolve())\n",
    "    DATA_DIR: Optional[str] = f\"{pathlib.Path(__file__).parent.resolve()}/data\"\n",
    "    DATA_LOAD_DIR: Optional[\n",
    "        str\n",
    "    ] = f\"{pathlib.Path(__file__).parent.resolve()}/data/saved\"\n",
    "\n",
    "    REMOVE_MISSING: bool = True\n",
    "    REMOVE_DUPLICATES: bool = True\n",
    "    CANONICALIZATION: bool = True\n",
    "    ENUMERATION: int = 10\n",
    "    ENUM_OVERSAMPLE: int = 15\n",
    "\n",
    "\n",
    "@dataclass\n",
    "class ModelArguments(_ABCDataClass):\n",
    "    NAME: str = \"model\"\n",
    "\n",
    "    NUM_EPOCHS: int = 100\n",
    "    BATCH_SIZE: int = 128\n",
    "    LOAD_PREVIOUS: bool = False\n",
    "    MODEL_LOAD_PATH: Optional[str] = None\n",
    "\n",
    "\n",
    "@dataclass\n",
    "class Seq2SeqArguments(ModelArguments):\n",
    "    NAME: str = \"seq2seq\"\n",
    "\n",
    "    SHARE_WEIGHT: bool = False\n",
    "\n",
    "    EMB_SIZE: int = 512\n",
    "\n",
    "    NHEAD: int = 8\n",
    "    DROPOUT: float = 0.1\n",
    "    FFN_HID_DIM: int = 512\n",
    "    NUM_ENCODER_LAYERS: int = 3\n",
    "    NUM_DECODER_LAYERS: int = 3\n",
    "\n",
    "\n",
    "@dataclass\n",
    "class TokenArguments(_ABCDataClass):\n",
    "    # Define special symbols and indices\n",
    "    PAD_IDX: int = 0  # Padding\n",
    "    BOS_IDX: int = 1  # Beginning of Sequence\n",
    "    EOS_IDX: int = 2  # End of Sequence\n",
    "    UNK_IDX: int = 3  # Unknown Value\n",
    "    MSK_IDX: Optional[int] = None  # Mask\n",
    "\n",
    "    # Our vocabulary\n",
    "    VOCAB: str = (\n",
    "        \" ^$?#%()+-./0123456789=@ABCDEFGHIKLMNOPRSTVXYZ[\\\\]abcdefgilmnoprstuy\"\n",
    "    )\n",
    "    MAX_SEQ_LEN: int = 110\n"
   ]
  },
  {
   "cell_type": "markdown",
   "metadata": {},
   "source": [
    "### Data Preprocessing"
   ]
  },
  {
   "cell_type": "code",
   "execution_count": null,
   "metadata": {},
   "outputs": [],
   "source": [
    "# Data cleaning\n",
    "# Data analysis"
   ]
  },
  {
   "cell_type": "markdown",
   "metadata": {},
   "source": [
    "### Data Engineering"
   ]
  },
  {
   "cell_type": "code",
   "execution_count": null,
   "metadata": {},
   "outputs": [],
   "source": [
    "# Enumeration\n",
    "# Outlier removal\n",
    "# Imbalance fix (sequence length; classes; activity)"
   ]
  },
  {
   "cell_type": "markdown",
   "metadata": {},
   "source": [
    "### Model Creation"
   ]
  },
  {
   "cell_type": "code",
   "execution_count": null,
   "metadata": {},
   "outputs": [],
   "source": [
    "# Create model\n",
    "# Analyse metrics\n",
    "# Visualize parts (Embeddings; Loss environment; etc.)\n",
    "# Hyperparameter-optimization"
   ]
  },
  {
   "cell_type": "markdown",
   "metadata": {},
   "source": [
    "### Model Validation"
   ]
  },
  {
   "cell_type": "code",
   "execution_count": null,
   "metadata": {},
   "outputs": [],
   "source": [
    "# Test model"
   ]
  },
  {
   "cell_type": "markdown",
   "metadata": {},
   "source": [
    "### Model Deployment"
   ]
  },
  {
   "cell_type": "code",
   "execution_count": null,
   "metadata": {},
   "outputs": [],
   "source": [
    "# Predict (something)\n",
    "# Interpret model"
   ]
  }
 ],
 "metadata": {
  "interpreter": {
   "hash": "31f2aee4e71d21fbe5cf8b01ff0e069b9275f58929596ceb00d14d90e3e16cd6"
  },
  "kernelspec": {
   "display_name": "Python 3 (ipykernel)",
   "language": "python",
   "name": "python3"
  },
  "language_info": {
   "codemirror_mode": {
    "name": "ipython",
    "version": 3
   },
   "file_extension": ".py",
   "mimetype": "text/x-python",
   "name": "python",
   "nbconvert_exporter": "python",
   "pygments_lexer": "ipython3",
   "version": "3.8.12"
  }
 },
 "nbformat": 4,
 "nbformat_minor": 2
}
